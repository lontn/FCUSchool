{
 "cells": [
  {
   "cell_type": "code",
   "execution_count": 6,
   "metadata": {},
   "outputs": [
    {
     "name": "stdout",
     "output_type": "stream",
     "text": [
      "Defaulting to user installation because normal site-packages is not writeable\n",
      "Collecting pandas\n",
      "  Downloading pandas-1.0.5-cp37-cp37m-manylinux1_x86_64.whl (10.1 MB)\n",
      "\u001b[K     |████████████████████████████████| 10.1 MB 5.1 MB/s eta 0:00:01\n",
      "\u001b[?25hRequirement already satisfied: pytz>=2017.2 in /usr/local/python3/lib/python3.7/site-packages (from pandas) (2019.2)\n",
      "Requirement already satisfied: python-dateutil>=2.6.1 in /usr/local/python3/lib/python3.7/site-packages (from pandas) (2.8.0)\n",
      "Collecting numpy>=1.13.3\n",
      "  Downloading numpy-1.19.0-cp37-cp37m-manylinux2010_x86_64.whl (14.6 MB)\n",
      "\u001b[K     |████████████████████████████████| 14.6 MB 8.8 MB/s eta 0:00:01       | 5.8 MB 9.6 MB/s eta 0:00:01\n",
      "\u001b[?25hRequirement already satisfied: six>=1.5 in /usr/local/python3/lib/python3.7/site-packages (from python-dateutil>=2.6.1->pandas) (1.12.0)\n",
      "Installing collected packages: numpy, pandas\n",
      "Successfully installed numpy-1.19.0 pandas-1.0.5\n",
      "Note: you may need to restart the kernel to use updated packages.\n"
     ]
    }
   ],
   "source": [
    "pip install pandas"
   ]
  },
  {
   "cell_type": "code",
   "execution_count": 10,
   "metadata": {},
   "outputs": [
    {
     "name": "stdout",
     "output_type": "stream",
     "text": [
      "Defaulting to user installation because normal site-packages is not writeable\n",
      "Requirement already satisfied: numpy in /home/gtml/.local/lib/python3.7/site-packages (1.19.0)\n",
      "Note: you may need to restart the kernel to use updated packages.\n"
     ]
    }
   ],
   "source": [
    "pip install numpy"
   ]
  },
  {
   "cell_type": "code",
   "execution_count": 20,
   "metadata": {},
   "outputs": [
    {
     "name": "stdout",
     "output_type": "stream",
     "text": [
      "Defaulting to user installation because normal site-packages is not writeable\n",
      "Requirement already up-to-date: pip in /usr/local/python3/lib/python3.7/site-packages (20.1.1)\n",
      "Note: you may need to restart the kernel to use updated packages.\n"
     ]
    }
   ],
   "source": [
    "pip install --upgrade pip"
   ]
  },
  {
   "cell_type": "code",
   "execution_count": 21,
   "metadata": {},
   "outputs": [
    {
     "name": "stdout",
     "output_type": "stream",
     "text": [
      "Defaulting to user installation because normal site-packages is not writeable\n",
      "Collecting matplot\n",
      "  Downloading matplot-0.1.9-py2.py3-none-any.whl (5.0 kB)\n",
      "Collecting pyloco>=0.0.134\n",
      "  Downloading pyloco-0.0.139-py2.py3-none-any.whl (60 kB)\n",
      "\u001b[K     |████████████████████████████████| 60 kB 629 kB/s eta 0:00:011\n",
      "\u001b[?25hCollecting matplotlib>=3.1.1\n",
      "  Downloading matplotlib-3.2.2-cp37-cp37m-manylinux1_x86_64.whl (12.4 MB)\n",
      "\u001b[K     |████████████████████████████████| 12.4 MB 12.1 MB/s eta 0:00:01\n",
      "\u001b[?25hCollecting ushlex\n",
      "  Downloading ushlex-0.99.1.tar.gz (4.7 kB)\n",
      "Collecting websocket-client\n",
      "  Downloading websocket_client-0.57.0-py2.py3-none-any.whl (200 kB)\n",
      "\u001b[K     |████████████████████████████████| 200 kB 11.9 MB/s eta 0:00:01\n",
      "\u001b[?25hCollecting typing\n",
      "  Downloading typing-3.7.4.3.tar.gz (78 kB)\n",
      "\u001b[K     |████████████████████████████████| 78 kB 8.3 MB/s  eta 0:00:01\n",
      "\u001b[?25hCollecting SimpleWebSocketServer\n",
      "  Downloading SimpleWebsocketServer-0.1.1.tar.gz (8.0 kB)\n",
      "Collecting twine\n",
      "  Downloading twine-3.2.0-py3-none-any.whl (34 kB)\n",
      "Requirement already satisfied: numpy>=1.11 in /home/gtml/.local/lib/python3.7/site-packages (from matplotlib>=3.1.1->matplot) (1.19.0)\n",
      "Requirement already satisfied: python-dateutil>=2.1 in /usr/local/python3/lib/python3.7/site-packages (from matplotlib>=3.1.1->matplot) (2.8.0)\n",
      "Collecting cycler>=0.10\n",
      "  Downloading cycler-0.10.0-py2.py3-none-any.whl (6.5 kB)\n",
      "Collecting kiwisolver>=1.0.1\n",
      "  Downloading kiwisolver-1.2.0-cp37-cp37m-manylinux1_x86_64.whl (88 kB)\n",
      "\u001b[K     |████████████████████████████████| 88 kB 8.7 MB/s  eta 0:00:01\n",
      "\u001b[?25hCollecting pyparsing!=2.0.4,!=2.1.2,!=2.1.6,>=2.0.1\n",
      "  Downloading pyparsing-2.4.7-py2.py3-none-any.whl (67 kB)\n",
      "\u001b[K     |████████████████████████████████| 67 kB 9.2 MB/s  eta 0:00:01\n",
      "\u001b[?25hRequirement already satisfied: six in /usr/local/python3/lib/python3.7/site-packages (from websocket-client->pyloco>=0.0.134->matplot) (1.12.0)\n",
      "Collecting importlib-metadata; python_version < \"3.8\"\n",
      "  Downloading importlib_metadata-1.7.0-py2.py3-none-any.whl (31 kB)\n",
      "Collecting requests>=2.20\n",
      "  Downloading requests-2.24.0-py2.py3-none-any.whl (61 kB)\n",
      "\u001b[K     |████████████████████████████████| 61 kB 1.3 MB/s  eta 0:00:01\n",
      "\u001b[?25hCollecting keyring>=15.1\n",
      "  Downloading keyring-21.2.1-py3-none-any.whl (31 kB)\n",
      "Collecting rfc3986>=1.4.0\n",
      "  Downloading rfc3986-1.4.0-py2.py3-none-any.whl (31 kB)\n",
      "Collecting colorama>=0.4.3\n",
      "  Downloading colorama-0.4.3-py2.py3-none-any.whl (15 kB)\n",
      "Requirement already satisfied: setuptools>=0.7.0 in /usr/local/python3/lib/python3.7/site-packages (from twine->pyloco>=0.0.134->matplot) (40.8.0)\n",
      "Collecting requests-toolbelt!=0.9.0,>=0.8.0\n",
      "  Downloading requests_toolbelt-0.9.1-py2.py3-none-any.whl (54 kB)\n",
      "\u001b[K     |████████████████████████████████| 54 kB 6.3 MB/s  eta 0:00:01\n",
      "\u001b[?25hCollecting tqdm>=4.14\n",
      "  Downloading tqdm-4.47.0-py2.py3-none-any.whl (66 kB)\n",
      "\u001b[K     |████████████████████████████████| 66 kB 7.7 MB/s  eta 0:00:01\n",
      "\u001b[?25hCollecting readme-renderer>=21.0\n",
      "  Downloading readme_renderer-26.0-py2.py3-none-any.whl (15 kB)\n",
      "Collecting pkginfo>=1.4.2\n",
      "  Downloading pkginfo-1.5.0.1-py2.py3-none-any.whl (25 kB)\n",
      "Collecting zipp>=0.5\n",
      "  Downloading zipp-3.1.0-py3-none-any.whl (4.9 kB)\n",
      "Collecting urllib3!=1.25.0,!=1.25.1,<1.26,>=1.21.1\n",
      "  Downloading urllib3-1.25.9-py2.py3-none-any.whl (126 kB)\n",
      "\u001b[K     |████████████████████████████████| 126 kB 11.6 MB/s eta 0:00:01\n",
      "\u001b[?25hCollecting chardet<4,>=3.0.2\n",
      "  Downloading chardet-3.0.4-py2.py3-none-any.whl (133 kB)\n",
      "\u001b[K     |████████████████████████████████| 133 kB 11.6 MB/s eta 0:00:01\n",
      "\u001b[?25hCollecting idna<3,>=2.5\n",
      "  Downloading idna-2.10-py2.py3-none-any.whl (58 kB)\n",
      "\u001b[K     |████████████████████████████████| 58 kB 9.2 MB/s  eta 0:00:01\n",
      "\u001b[?25hCollecting certifi>=2017.4.17\n",
      "  Downloading certifi-2020.6.20-py2.py3-none-any.whl (156 kB)\n",
      "\u001b[K     |████████████████████████████████| 156 kB 11.6 MB/s eta 0:00:01\n",
      "\u001b[?25hCollecting jeepney>=0.4.2; sys_platform == \"linux\"\n",
      "  Downloading jeepney-0.4.3-py3-none-any.whl (21 kB)\n",
      "Collecting SecretStorage>=3; sys_platform == \"linux\"\n",
      "  Downloading SecretStorage-3.1.2-py3-none-any.whl (14 kB)\n",
      "Collecting docutils>=0.13.1\n",
      "  Downloading docutils-0.16-py2.py3-none-any.whl (548 kB)\n",
      "\u001b[K     |████████████████████████████████| 548 kB 11.2 MB/s eta 0:00:01\n",
      "\u001b[?25hRequirement already satisfied: bleach>=2.1.0 in /usr/local/python3/lib/python3.7/site-packages (from readme-renderer>=21.0->twine->pyloco>=0.0.134->matplot) (3.1.0)\n",
      "Collecting Pygments>=2.5.1\n",
      "  Downloading Pygments-2.6.1-py3-none-any.whl (914 kB)\n",
      "\u001b[K     |████████████████████████████████| 914 kB 11.5 MB/s eta 0:00:01\n",
      "\u001b[?25hCollecting cryptography\n",
      "  Downloading cryptography-2.9.2-cp35-abi3-manylinux2010_x86_64.whl (2.7 MB)\n",
      "\u001b[K     |████████████████████████████████| 2.7 MB 11.7 MB/s eta 0:00:01\n",
      "\u001b[?25hRequirement already satisfied: webencodings in /usr/local/python3/lib/python3.7/site-packages (from bleach>=2.1.0->readme-renderer>=21.0->twine->pyloco>=0.0.134->matplot) (0.5.1)\n",
      "Collecting cffi!=1.11.3,>=1.8\n",
      "  Downloading cffi-1.14.0-cp37-cp37m-manylinux1_x86_64.whl (400 kB)\n",
      "\u001b[K     |████████████████████████████████| 400 kB 11.7 MB/s eta 0:00:01\n",
      "\u001b[?25hCollecting pycparser\n",
      "  Downloading pycparser-2.20-py2.py3-none-any.whl (112 kB)\n",
      "\u001b[K     |████████████████████████████████| 112 kB 11.9 MB/s eta 0:00:01\n",
      "\u001b[?25hUsing legacy setup.py install for ushlex, since package 'wheel' is not installed.\n",
      "Using legacy setup.py install for typing, since package 'wheel' is not installed.\n",
      "Using legacy setup.py install for SimpleWebSocketServer, since package 'wheel' is not installed.\n",
      "Installing collected packages: ushlex, websocket-client, typing, SimpleWebSocketServer, zipp, importlib-metadata, urllib3, chardet, idna, certifi, requests, jeepney, pycparser, cffi, cryptography, SecretStorage, keyring, rfc3986, colorama, requests-toolbelt, tqdm, docutils, Pygments, readme-renderer, pkginfo, twine, pyloco, cycler, kiwisolver, pyparsing, matplotlib, matplot\n",
      "    Running setup.py install for ushlex ... \u001b[?25ldone\n",
      "\u001b[?25h    Running setup.py install for typing ... \u001b[?25ldone\n",
      "\u001b[?25h    Running setup.py install for SimpleWebSocketServer ... \u001b[?25ldone\n",
      "\u001b[?25hSuccessfully installed Pygments-2.6.1 SecretStorage-3.1.2 SimpleWebSocketServer-0.1.1 certifi-2020.6.20 cffi-1.14.0 chardet-3.0.4 colorama-0.4.3 cryptography-2.9.2 cycler-0.10.0 docutils-0.16 idna-2.10 importlib-metadata-1.7.0 jeepney-0.4.3 keyring-21.2.1 kiwisolver-1.2.0 matplot-0.1.9 matplotlib-3.2.2 pkginfo-1.5.0.1 pycparser-2.20 pyloco-0.0.139 pyparsing-2.4.7 readme-renderer-26.0 requests-2.24.0 requests-toolbelt-0.9.1 rfc3986-1.4.0 tqdm-4.47.0 twine-3.2.0 typing-3.7.4.3 urllib3-1.25.9 ushlex-0.99.1 websocket-client-0.57.0 zipp-3.1.0\n",
      "Note: you may need to restart the kernel to use updated packages.\n"
     ]
    }
   ],
   "source": [
    "pip install matplot"
   ]
  },
  {
   "cell_type": "code",
   "execution_count": 17,
   "metadata": {},
   "outputs": [
    {
     "ename": "NameError",
     "evalue": "name 'python' is not defined",
     "output_type": "error",
     "traceback": [
      "\u001b[0;31m---------------------------------------------------------------------------\u001b[0m",
      "\u001b[0;31mNameError\u001b[0m                                 Traceback (most recent call last)",
      "\u001b[0;32m<ipython-input-17-7c58aee1573a>\u001b[0m in \u001b[0;36m<module>\u001b[0;34m\u001b[0m\n\u001b[0;32m----> 1\u001b[0;31m \u001b[0mprint\u001b[0m\u001b[0;34m(\u001b[0m\u001b[0mpython\u001b[0m \u001b[0;34m-\u001b[0m\u001b[0mV\u001b[0m\u001b[0;34m)\u001b[0m\u001b[0;34m\u001b[0m\u001b[0;34m\u001b[0m\u001b[0m\n\u001b[0m",
      "\u001b[0;31mNameError\u001b[0m: name 'python' is not defined"
     ]
    }
   ],
   "source": [
    "print(python -V)"
   ]
  },
  {
   "cell_type": "code",
   "execution_count": 22,
   "metadata": {},
   "outputs": [
    {
     "name": "stdout",
     "output_type": "stream",
     "text": [
      "Defaulting to user installation because normal site-packages is not writeable\n",
      "Requirement already satisfied: matplotlib in /home/gtml/.local/lib/python3.7/site-packages (3.2.2)\n",
      "Requirement already satisfied: cycler>=0.10 in /home/gtml/.local/lib/python3.7/site-packages (from matplotlib) (0.10.0)\n",
      "Requirement already satisfied: numpy>=1.11 in /home/gtml/.local/lib/python3.7/site-packages (from matplotlib) (1.19.0)\n",
      "Requirement already satisfied: pyparsing!=2.0.4,!=2.1.2,!=2.1.6,>=2.0.1 in /home/gtml/.local/lib/python3.7/site-packages (from matplotlib) (2.4.7)\n",
      "Requirement already satisfied: python-dateutil>=2.1 in /usr/local/python3/lib/python3.7/site-packages (from matplotlib) (2.8.0)\n",
      "Requirement already satisfied: kiwisolver>=1.0.1 in /home/gtml/.local/lib/python3.7/site-packages (from matplotlib) (1.2.0)\n",
      "Requirement already satisfied: six in /usr/local/python3/lib/python3.7/site-packages (from cycler>=0.10->matplotlib) (1.12.0)\n",
      "Note: you may need to restart the kernel to use updated packages.\n"
     ]
    }
   ],
   "source": [
    "pip install matplotlib"
   ]
  },
  {
   "cell_type": "code",
   "execution_count": 23,
   "metadata": {},
   "outputs": [
    {
     "name": "stdout",
     "output_type": "stream",
     "text": [
      "Package               Version\n",
      "--------------------- ---------\n",
      "attrs                 19.1.0\n",
      "backcall              0.1.0\n",
      "bleach                3.1.0\n",
      "certifi               2020.6.20\n",
      "cffi                  1.14.0\n",
      "chardet               3.0.4\n",
      "colorama              0.4.3\n",
      "cryptography          2.9.2\n",
      "cycler                0.10.0\n",
      "decorator             4.4.0\n",
      "defusedxml            0.6.0\n",
      "Django                2.2.4\n",
      "docutils              0.16\n",
      "entrypoints           0.3\n",
      "idna                  2.10\n",
      "importlib-metadata    1.7.0\n",
      "ipykernel             5.1.2\n",
      "ipython               7.7.0\n",
      "ipython-genutils      0.2.0\n",
      "ipywidgets            7.5.1\n",
      "jedi                  0.14.1\n",
      "jeepney               0.4.3\n",
      "Jinja2                2.10.1\n",
      "jsonschema            3.0.2\n",
      "jupyter               1.0.0\n",
      "jupyter-client        5.3.1\n",
      "jupyter-console       6.0.0\n",
      "jupyter-core          4.5.0\n",
      "keyring               21.2.1\n",
      "kiwisolver            1.2.0\n",
      "MarkupSafe            1.1.1\n",
      "matplot               0.1.9\n",
      "matplotlib            3.2.2\n",
      "mistune               0.8.4\n",
      "nbconvert             5.6.0\n",
      "nbformat              4.4.0\n",
      "notebook              6.0.0\n",
      "numpy                 1.19.0\n",
      "pandas                1.0.5\n",
      "pandocfilters         1.4.2\n",
      "parso                 0.5.1\n",
      "pexpect               4.7.0\n",
      "pickleshare           0.7.5\n",
      "pip                   20.1.1\n",
      "pkginfo               1.5.0.1\n",
      "ply                   3.11\n",
      "prometheus-client     0.7.1\n",
      "prompt-toolkit        2.0.9\n",
      "ptyprocess            0.6.0\n",
      "pyasn1                0.4.6\n",
      "pycparser             2.20\n",
      "pycryptodomex         3.8.2\n",
      "Pygments              2.6.1\n",
      "pyloco                0.0.139\n",
      "pymongo               3.8.0\n",
      "PyMySQL               0.9.3\n",
      "pyparsing             2.4.7\n",
      "pyrsistent            0.15.4\n",
      "pysmi                 0.3.4\n",
      "pysnmp                4.4.10\n",
      "python-dateutil       2.8.0\n",
      "pytz                  2019.2\n",
      "pyzmq                 18.1.0\n",
      "qtconsole             4.5.2\n",
      "readme-renderer       26.0\n",
      "requests              2.24.0\n",
      "requests-toolbelt     0.9.1\n",
      "rfc3986               1.4.0\n",
      "schedule              0.6.0\n",
      "SecretStorage         3.1.2\n",
      "Send2Trash            1.5.0\n",
      "setuptools            40.8.0\n",
      "SimpleWebSocketServer 0.1.1\n",
      "six                   1.12.0\n",
      "sqlparse              0.3.0\n",
      "terminado             0.8.2\n",
      "testpath              0.4.2\n",
      "tornado               6.0.3\n",
      "tqdm                  4.47.0\n",
      "traitlets             4.3.2\n",
      "twine                 3.2.0\n",
      "typing                3.7.4.3\n",
      "urllib3               1.25.9\n",
      "ushlex                0.99.1\n",
      "wcwidth               0.1.7\n",
      "webencodings          0.5.1\n",
      "websocket-client      0.57.0\n",
      "widgetsnbextension    3.5.1\n",
      "zipp                  3.1.0\n",
      "Note: you may need to restart the kernel to use updated packages.\n"
     ]
    }
   ],
   "source": [
    "pip list"
   ]
  },
  {
   "cell_type": "code",
   "execution_count": 24,
   "metadata": {},
   "outputs": [
    {
     "ename": "ModuleNotFoundError",
     "evalue": "No module named 'matplotlib'",
     "output_type": "error",
     "traceback": [
      "\u001b[0;31m---------------------------------------------------------------------------\u001b[0m",
      "\u001b[0;31mModuleNotFoundError\u001b[0m                       Traceback (most recent call last)",
      "\u001b[0;32m<ipython-input-24-d67f44a9b5f0>\u001b[0m in \u001b[0;36m<module>\u001b[0;34m\u001b[0m\n\u001b[0;32m----> 1\u001b[0;31m \u001b[0;32mimport\u001b[0m \u001b[0mmatplotlib\u001b[0m\u001b[0;34m\u001b[0m\u001b[0;34m\u001b[0m\u001b[0m\n\u001b[0m\u001b[1;32m      2\u001b[0m \u001b[0mprint\u001b[0m\u001b[0;34m(\u001b[0m\u001b[0mmatplotlib\u001b[0m\u001b[0;34m.\u001b[0m\u001b[0m__file__\u001b[0m\u001b[0;34m)\u001b[0m\u001b[0;34m\u001b[0m\u001b[0;34m\u001b[0m\u001b[0m\n",
      "\u001b[0;31mModuleNotFoundError\u001b[0m: No module named 'matplotlib'"
     ]
    }
   ],
   "source": [
    "import matplotlib\n",
    "print(matplotlib.__file__)"
   ]
  },
  {
   "cell_type": "code",
   "execution_count": 28,
   "metadata": {},
   "outputs": [
    {
     "ename": "ModuleNotFoundError",
     "evalue": "No module named 'numpy'",
     "output_type": "error",
     "traceback": [
      "\u001b[0;31m---------------------------------------------------------------------------\u001b[0m",
      "\u001b[0;31mModuleNotFoundError\u001b[0m                       Traceback (most recent call last)",
      "\u001b[0;32m<ipython-input-28-0dcc5336cd4e>\u001b[0m in \u001b[0;36m<module>\u001b[0;34m\u001b[0m\n\u001b[1;32m      1\u001b[0m \u001b[0;31m# 引入模組\u001b[0m\u001b[0;34m\u001b[0m\u001b[0;34m\u001b[0m\u001b[0;34m\u001b[0m\u001b[0m\n\u001b[0;32m----> 2\u001b[0;31m \u001b[0;32mimport\u001b[0m \u001b[0mnumpy\u001b[0m \u001b[0;32mas\u001b[0m \u001b[0mnp\u001b[0m\u001b[0;34m\u001b[0m\u001b[0;34m\u001b[0m\u001b[0m\n\u001b[0m\u001b[1;32m      3\u001b[0m \u001b[0;32mimport\u001b[0m \u001b[0mpandas\u001b[0m \u001b[0;32mas\u001b[0m \u001b[0mpd\u001b[0m\u001b[0;34m\u001b[0m\u001b[0;34m\u001b[0m\u001b[0m\n\u001b[1;32m      4\u001b[0m \u001b[0;32mimport\u001b[0m \u001b[0mmatplotlib\u001b[0m\u001b[0;34m.\u001b[0m\u001b[0mpyplot\u001b[0m \u001b[0;32mas\u001b[0m \u001b[0mplt\u001b[0m\u001b[0;34m\u001b[0m\u001b[0;34m\u001b[0m\u001b[0m\n\u001b[1;32m      5\u001b[0m \u001b[0;32mimport\u001b[0m \u001b[0mpymysql\u001b[0m\u001b[0;34m\u001b[0m\u001b[0;34m\u001b[0m\u001b[0m\n",
      "\u001b[0;31mModuleNotFoundError\u001b[0m: No module named 'numpy'"
     ]
    }
   ],
   "source": [
    "# 引入模組\n",
    "import numpy as np\n",
    "import pandas as pd\n",
    "import matplotlib.pyplot as plt\n",
    "import pymysql\n",
    "\n",
    "# Import Data\n",
    "df = pd.read_csv(\"https://github.com/selva86/datasets/raw/master/economics.csv\")\n",
    "\n",
    "# Prepare Data\n",
    "x = df['date'].values.tolist()\n",
    "y1 = df['psavert'].values.tolist()\n",
    "y2 = df['uempmed'].values.tolist()\n",
    "mycolors = ['tab:red', 'tab:blue', 'tab:green', 'tab:orange', 'tab:brown', 'tab:grey', 'tab:pink', 'tab:olive']      \n",
    "columns = ['psavert', 'uempmed']\n",
    "\n",
    "# Draw Plot\n",
    "fig, ax = plt.subplots(1, 1, figsize=(16,9), dpi= 80)\n",
    "ax.fill_between(x, y1=y1, y2=0, label=columns[1], alpha=0.5, color=mycolors[1], linewidth=2)\n",
    "ax.fill_between(x, y1=y2, y2=0, label=columns[0], alpha=0.5, color=mycolors[0], linewidth=2)\n",
    "\n",
    "# Decorations\n",
    "ax.set_title('Personal Savings Rate vs Median Duration of Unemployment', fontsize=18)\n",
    "ax.set(ylim=[0, 30])\n",
    "ax.legend(loc='best', fontsize=12)\n",
    "plt.xticks(x[::50], fontsize=10, horizontalalignment='center')\n",
    "plt.yticks(np.arange(2.5, 30.0, 2.5), fontsize=10)\n",
    "plt.xlim(-10, x[-1])\n",
    "\n",
    "# Draw Tick lines  \n",
    "for y in np.arange(2.5, 30.0, 2.5):    \n",
    "    plt.hlines(y, xmin=0, xmax=len(x), colors='black', alpha=0.3, linestyles=\"--\", lw=0.5)\n",
    "\n",
    "# Lighten borders\n",
    "plt.gca().spines[\"top\"].set_alpha(0)\n",
    "plt.gca().spines[\"bottom\"].set_alpha(.3)\n",
    "plt.gca().spines[\"right\"].set_alpha(0)\n",
    "plt.gca().spines[\"left\"].set_alpha(.3)\n",
    "plt.show()"
   ]
  },
  {
   "cell_type": "code",
   "execution_count": 30,
   "metadata": {},
   "outputs": [
    {
     "name": "stdout",
     "output_type": "stream",
     "text": [
      "Defaulting to user installation because normal site-packages is not writeable\n",
      "Collecting plotly\n",
      "  Downloading plotly-4.9.0-py2.py3-none-any.whl (12.9 MB)\n",
      "\u001b[K     |████████████████████████████████| 12.9 MB 301 kB/s eta 0:00:01\n",
      "\u001b[?25hCollecting retrying>=1.3.3\n",
      "  Downloading retrying-1.3.3.tar.gz (10 kB)\n",
      "Requirement already satisfied: six in /usr/local/python3/lib/python3.7/site-packages (from plotly) (1.12.0)\n",
      "Using legacy setup.py install for retrying, since package 'wheel' is not installed.\n",
      "Installing collected packages: retrying, plotly\n",
      "    Running setup.py install for retrying ... \u001b[?25ldone\n",
      "\u001b[?25hSuccessfully installed plotly-4.9.0 retrying-1.3.3\n",
      "Note: you may need to restart the kernel to use updated packages.\n"
     ]
    }
   ],
   "source": [
    "pip install plotly"
   ]
  },
  {
   "cell_type": "code",
   "execution_count": 31,
   "metadata": {},
   "outputs": [
    {
     "name": "stdout",
     "output_type": "stream",
     "text": [
      "Defaulting to user installation because normal site-packages is not writeable\n",
      "Collecting dash\n",
      "  Downloading dash-1.13.4.tar.gz (67 kB)\n",
      "\u001b[K     |████████████████████████████████| 67 kB 306 kB/s eta 0:00:011\n",
      "\u001b[?25hCollecting Flask>=1.0.2\n",
      "  Downloading Flask-1.1.2-py2.py3-none-any.whl (94 kB)\n",
      "\u001b[K     |████████████████████████████████| 94 kB 787 kB/s eta 0:00:011\n",
      "\u001b[?25hCollecting flask-compress\n",
      "  Downloading Flask-Compress-1.5.0.tar.gz (6.5 kB)\n",
      "Requirement already satisfied: plotly in /home/gtml/.local/lib/python3.7/site-packages (from dash) (4.9.0)\n",
      "Collecting dash_renderer==1.5.1\n",
      "  Downloading dash_renderer-1.5.1.tar.gz (1.2 MB)\n",
      "\u001b[K     |████████████████████████████████| 1.2 MB 1.2 MB/s eta 0:00:01\n",
      "\u001b[?25hCollecting dash-core-components==1.10.1\n",
      "  Downloading dash_core_components-1.10.1.tar.gz (3.4 MB)\n",
      "\u001b[K     |████████████████████████████████| 3.4 MB 2.1 MB/s eta 0:00:01\n",
      "\u001b[?25hCollecting dash-html-components==1.0.3\n",
      "  Downloading dash_html_components-1.0.3.tar.gz (187 kB)\n",
      "\u001b[K     |████████████████████████████████| 187 kB 2.0 MB/s eta 0:00:01\n",
      "\u001b[?25hCollecting dash-table==4.8.1\n",
      "  Downloading dash_table-4.8.1.tar.gz (1.8 MB)\n",
      "\u001b[K     |████████████████████████████████| 1.8 MB 2.0 MB/s eta 0:00:01\n",
      "\u001b[?25hCollecting future\n",
      "  Downloading future-0.18.2.tar.gz (829 kB)\n",
      "\u001b[K     |████████████████████████████████| 829 kB 2.3 MB/s eta 0:00:01\n",
      "\u001b[?25hCollecting itsdangerous>=0.24\n",
      "  Downloading itsdangerous-1.1.0-py2.py3-none-any.whl (16 kB)\n",
      "Collecting Werkzeug>=0.15\n",
      "  Downloading Werkzeug-1.0.1-py2.py3-none-any.whl (298 kB)\n",
      "\u001b[K     |████████████████████████████████| 298 kB 2.4 MB/s eta 0:00:01\n",
      "\u001b[?25hRequirement already satisfied: Jinja2>=2.10.1 in /usr/local/python3/lib/python3.7/site-packages (from Flask>=1.0.2->dash) (2.10.1)\n",
      "Collecting click>=5.1\n",
      "  Downloading click-7.1.2-py2.py3-none-any.whl (82 kB)\n",
      "\u001b[K     |████████████████████████████████| 82 kB 1.9 MB/s eta 0:00:011\n",
      "\u001b[?25hCollecting brotli\n",
      "  Downloading Brotli-1.0.7-cp37-cp37m-manylinux1_x86_64.whl (352 kB)\n",
      "\u001b[K     |████████████████████████████████| 352 kB 2.4 MB/s eta 0:00:01\n",
      "\u001b[?25hRequirement already satisfied: retrying>=1.3.3 in /home/gtml/.local/lib/python3.7/site-packages (from plotly->dash) (1.3.3)\n",
      "Requirement already satisfied: six in /usr/local/python3/lib/python3.7/site-packages (from plotly->dash) (1.12.0)\n",
      "Requirement already satisfied: MarkupSafe>=0.23 in /usr/local/python3/lib/python3.7/site-packages (from Jinja2>=2.10.1->Flask>=1.0.2->dash) (1.1.1)\n",
      "Using legacy setup.py install for dash, since package 'wheel' is not installed.\n",
      "Using legacy setup.py install for flask-compress, since package 'wheel' is not installed.\n",
      "Using legacy setup.py install for dash-renderer, since package 'wheel' is not installed.\n",
      "Using legacy setup.py install for dash-core-components, since package 'wheel' is not installed.\n",
      "Using legacy setup.py install for dash-html-components, since package 'wheel' is not installed.\n",
      "Using legacy setup.py install for dash-table, since package 'wheel' is not installed.\n",
      "Using legacy setup.py install for future, since package 'wheel' is not installed.\n",
      "Installing collected packages: itsdangerous, Werkzeug, click, Flask, brotli, flask-compress, dash-renderer, dash-core-components, dash-html-components, dash-table, future, dash\n",
      "    Running setup.py install for flask-compress ... \u001b[?25ldone\n",
      "\u001b[?25h    Running setup.py install for dash-renderer ... \u001b[?25ldone\n",
      "\u001b[?25h    Running setup.py install for dash-core-components ... \u001b[?25ldone\n",
      "\u001b[?25h    Running setup.py install for dash-html-components ... \u001b[?25ldone\n",
      "\u001b[?25h    Running setup.py install for dash-table ... \u001b[?25ldone\n",
      "\u001b[?25h    Running setup.py install for future ... \u001b[?25ldone\n",
      "\u001b[?25h    Running setup.py install for dash ... \u001b[?25ldone\n",
      "\u001b[?25hSuccessfully installed Flask-1.1.2 Werkzeug-1.0.1 brotli-1.0.7 click-7.1.2 dash-1.13.4 dash-core-components-1.10.1 dash-html-components-1.0.3 dash-renderer-1.5.1 dash-table-4.8.1 flask-compress-1.5.0 future-0.18.2 itsdangerous-1.1.0\n",
      "Note: you may need to restart the kernel to use updated packages.\n"
     ]
    }
   ],
   "source": [
    "pip install dash"
   ]
  },
  {
   "cell_type": "code",
   "execution_count": 32,
   "metadata": {},
   "outputs": [
    {
     "name": "stdout",
     "output_type": "stream",
     "text": [
      "Defaulting to user installation because normal site-packages is not writeable\n",
      "Requirement already satisfied: dash-html-components in /home/gtml/.local/lib/python3.7/site-packages (1.0.3)\n",
      "Note: you may need to restart the kernel to use updated packages.\n"
     ]
    }
   ],
   "source": [
    "pip install dash-html-components"
   ]
  },
  {
   "cell_type": "code",
   "execution_count": 33,
   "metadata": {},
   "outputs": [
    {
     "name": "stdout",
     "output_type": "stream",
     "text": [
      "Defaulting to user installation because normal site-packages is not writeable\n",
      "Requirement already satisfied: dash-core-components in /home/gtml/.local/lib/python3.7/site-packages (1.10.1)\n",
      "Note: you may need to restart the kernel to use updated packages.\n"
     ]
    }
   ],
   "source": [
    "pip install dash-core-components"
   ]
  },
  {
   "cell_type": "code",
   "execution_count": 34,
   "metadata": {},
   "outputs": [
    {
     "name": "stdout",
     "output_type": "stream",
     "text": [
      "Defaulting to user installation because normal site-packages is not writeable\n",
      "Requirement already satisfied: bokeh in /home/gtml/.local/lib/python3.7/site-packages (2.1.1)\n",
      "Requirement already satisfied: PyYAML>=3.10 in /home/gtml/.local/lib/python3.7/site-packages (from bokeh) (5.3.1)\n",
      "Requirement already satisfied: python-dateutil>=2.1 in /usr/local/python3/lib/python3.7/site-packages (from bokeh) (2.8.0)\n",
      "Requirement already satisfied: Jinja2>=2.7 in /usr/local/python3/lib/python3.7/site-packages (from bokeh) (2.10.1)\n",
      "Requirement already satisfied: numpy>=1.11.3 in /home/gtml/.local/lib/python3.7/site-packages (from bokeh) (1.19.0)\n",
      "Requirement already satisfied: pillow>=4.0 in /home/gtml/.local/lib/python3.7/site-packages (from bokeh) (7.2.0)\n",
      "Requirement already satisfied: packaging>=16.8 in /home/gtml/.local/lib/python3.7/site-packages (from bokeh) (20.4)\n",
      "Requirement already satisfied: tornado>=5.1 in /usr/local/python3/lib/python3.7/site-packages (from bokeh) (6.0.3)\n",
      "Requirement already satisfied: typing_extensions>=3.7.4 in /home/gtml/.local/lib/python3.7/site-packages (from bokeh) (3.7.4.2)\n",
      "Requirement already satisfied: six>=1.5 in /usr/local/python3/lib/python3.7/site-packages (from python-dateutil>=2.1->bokeh) (1.12.0)\n",
      "Requirement already satisfied: MarkupSafe>=0.23 in /usr/local/python3/lib/python3.7/site-packages (from Jinja2>=2.7->bokeh) (1.1.1)\n",
      "Requirement already satisfied: pyparsing>=2.0.2 in /home/gtml/.local/lib/python3.7/site-packages (from packaging>=16.8->bokeh) (2.4.7)\n",
      "Note: you may need to restart the kernel to use updated packages.\n"
     ]
    }
   ],
   "source": [
    "pip install bokeh"
   ]
  },
  {
   "cell_type": "code",
   "execution_count": 1,
   "metadata": {},
   "outputs": [
    {
     "name": "stdout",
     "output_type": "stream",
     "text": [
      "Defaulting to user installation because normal site-packages is not writeable\n",
      "Collecting sqlalchemy\n",
      "  Downloading SQLAlchemy-1.3.18-cp37-cp37m-manylinux2010_x86_64.whl (1.3 MB)\n",
      "\u001b[K     |████████████████████████████████| 1.3 MB 773 kB/s eta 0:00:01\n",
      "\u001b[?25hInstalling collected packages: sqlalchemy\n",
      "Successfully installed sqlalchemy-1.3.18\n",
      "\u001b[33mWARNING: You are using pip version 20.1.1; however, version 20.2 is available.\n",
      "You should consider upgrading via the '/usr/local/python3/bin/python3.7 -m pip install --upgrade pip' command.\u001b[0m\n",
      "Note: you may need to restart the kernel to use updated packages.\n"
     ]
    }
   ],
   "source": [
    "pip install sqlalchemy"
   ]
  },
  {
   "cell_type": "code",
   "execution_count": null,
   "metadata": {},
   "outputs": [],
   "source": []
  }
 ],
 "metadata": {
  "kernelspec": {
   "display_name": "Python 3",
   "language": "python",
   "name": "python3"
  },
  "language_info": {
   "codemirror_mode": {
    "name": "ipython",
    "version": 3
   },
   "file_extension": ".py",
   "mimetype": "text/x-python",
   "name": "python",
   "nbconvert_exporter": "python",
   "pygments_lexer": "ipython3",
   "version": "3.7.4"
  }
 },
 "nbformat": 4,
 "nbformat_minor": 2
}
