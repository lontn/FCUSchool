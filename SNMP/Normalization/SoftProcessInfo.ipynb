{
 "cells": [
  {
   "cell_type": "code",
   "execution_count": 5,
   "metadata": {},
   "outputs": [
    {
     "name": "stdout",
     "output_type": "stream",
     "text": [
      "<class 'tuple'>\n",
      "Done!!\n"
     ]
    }
   ],
   "source": [
    "# 引入模組\n",
    "import numpy as np\n",
    "import pandas as pd\n",
    "import datetime\n",
    "import pymysql\n",
    "\n",
    "def dbConnection():\n",
    "    # 建立MySQL連線\n",
    "    dbBase = pymysql.connect(host='XXXXX', port=3306, user='root', passwd='XXXXXXX', db='ResourceApp', charset='utf8')\n",
    "    return dbBase\n",
    "\n",
    "# 框範圍\n",
    "def dataResource(dbBase, startDate, endDate):\n",
    "    sql = \"SELECT R.ip, R.ReceiveTime, R.hrSWRunName, concat(hrSWRunPath, hrSWRunName) as Paths, H.SoftName, H.SoftGroup1,H.SoftGroup2, C.SoftClass asSoftClassWare, C.SoftType, C.Unit, C.SoftApp, R.hrSWRunPerfCPU, R.hrSWRunPerfMem, \\\n",
    "    CASE \\\n",
    "    WHEN H.SoftGroup1 is not null THEN 1 \\\n",
    "    WHEN SP.SoftName is not null THEN 2 \\\n",
    "    ELSE 0 \\\n",
    "    END AS SystemType, \\\n",
    "    now() \\\n",
    "    FROM ResourceApp.HrSWRun AS R \\\n",
    "    LEFT join ResourceApp.ConfSoftHistoryList AS H \\\n",
    "    ON R.hrSWRunName = H.SoftRun AND concat(R.hrSWRunPath, R.hrSWRunName) = H.SoftPath \\\n",
    "    LEFT JOIN ResourceApp.ConfSoftwareList AS C \\\n",
    "    ON C.SoftName = H.SoftName \\\n",
    "    LEFT JOIN ResourceApp.SystemProcess as SP \\\n",
    "    ON R.hrSWRunName = SP.SoftRun \\\n",
    "    where R.ReceiveTime >= str_to_date('{0}', '%Y-%m-%d %H:%i:%s') AND R.ReceiveTime < str_to_date('{1}', '%Y-%m-%d %H:%i:%s')\".format(startDate, endDate)\n",
    "    # print(sql)\n",
    "    cursor = dbBase.cursor()\n",
    "    cursor.execute(sql)\n",
    "    dataResult = cursor.fetchall()\n",
    "    return dataResult\n",
    "\n",
    "def SoftProcessInfoSQL():\n",
    "    sql = \"INSERT INTO ResourceApp.SoftProcessInfo (ip,ReceiveTime,hrSWRunName,ProcessPath,SoftName,SoftGroup1,SoftGroup2,SoftClass,SoftType,Unit,SoftApp,hrSWRunPerfCPU,hrSWRunPerfMem,SystemType,CreateTime) \\\n",
    "    VALUES (%s,%s,%s,%s,%s,%s,%s,%s,%s,%s,%s,%s,%s,%s,%s)\"\n",
    "    return sql\n",
    "\n",
    "if __name__ == \"__main__\":\n",
    "    # 建立連線\n",
    "    dbBase = dbConnection()\n",
    "    # 撈範圍\n",
    "    dataResult = dataResource(dbBase, \"2020-07-25\", \"2020-07-26\")\n",
    "    print(type(dataResult))\n",
    "    cursor = dbBase.cursor()\n",
    "    try:\n",
    "        sqlCMD = SoftProcessInfoSQL()\n",
    "        cursor.executemany(sqlCMD, dataResult)\n",
    "        dbBase.commit()\n",
    "    except pymysql.Error as e:\n",
    "        print(\"Err:\", e)\n",
    "    finally:\n",
    "        #關閉連線\n",
    "        cursor.close()\n",
    "        dbBase.close()\n",
    "\n",
    "    print(\"Done!!\")\n",
    "\n"
   ]
  },
  {
   "cell_type": "code",
   "execution_count": null,
   "metadata": {},
   "outputs": [],
   "source": []
  }
 ],
 "metadata": {
  "kernelspec": {
   "display_name": "Python 3",
   "language": "python",
   "name": "python3"
  },
  "language_info": {
   "codemirror_mode": {
    "name": "ipython",
    "version": 3
   },
   "file_extension": ".py",
   "mimetype": "text/x-python",
   "name": "python",
   "nbconvert_exporter": "python",
   "pygments_lexer": "ipython3",
   "version": "3.7.4"
  }
 },
 "nbformat": 4,
 "nbformat_minor": 2
}
