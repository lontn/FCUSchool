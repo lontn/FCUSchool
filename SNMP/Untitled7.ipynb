{
 "cells": [
  {
   "cell_type": "code",
   "execution_count": 1,
   "metadata": {},
   "outputs": [],
   "source": [
    "import mitosheet"
   ]
  },
  {
   "cell_type": "code",
   "execution_count": 4,
   "metadata": {},
   "outputs": [
    {
     "name": "stdout",
     "output_type": "stream",
     "text": [
      "Defaulting to user installation because normal site-packages is not writeable\n",
      "Collecting mitosheet\n",
      "  Downloading mitosheet-0.1.149-py2.py3-none-any.whl (3.3 MB)\n",
      "\u001b[K     |████████████████████████████████| 3.3 MB 2.7 MB/s eta 0:00:01\n",
      "\u001b[?25hCollecting analytics-python\n",
      "  Downloading analytics_python-1.2.9-py2.py3-none-any.whl (13 kB)\n",
      "Collecting matplotlib>=3.3\n",
      "  Downloading matplotlib-3.3.4-cp37-cp37m-manylinux1_x86_64.whl (11.5 MB)\n",
      "\u001b[K     |████████████████████████████████| 11.5 MB 12.1 MB/s eta 0:00:01\n",
      "\u001b[?25hRequirement already satisfied: ipywidgets>=7.0.0 in /usr/local/python3/lib/python3.7/site-packages (from mitosheet) (7.5.1)\n",
      "Collecting pandas>=1.1.0\n",
      "  Downloading pandas-1.2.3-cp37-cp37m-manylinux1_x86_64.whl (9.9 MB)\n",
      "\u001b[K     |████████████████████████████████| 9.9 MB 4.4 MB/s eta 0:00:01\n",
      "\u001b[?25hCollecting jupyterlab<3.0,>=2.0\n",
      "  Downloading jupyterlab-2.2.9-py3-none-any.whl (7.9 MB)\n",
      "\u001b[K     |████████████████████████████████| 7.9 MB 479 kB/s eta 0:00:01\n",
      "\u001b[?25hRequirement already satisfied: traitlets>=4.3.1 in /usr/local/python3/lib/python3.7/site-packages (from ipywidgets>=7.0.0->mitosheet) (4.3.2)\n",
      "Requirement already satisfied: ipykernel>=4.5.1 in /usr/local/python3/lib/python3.7/site-packages (from ipywidgets>=7.0.0->mitosheet) (5.1.2)\n",
      "Requirement already satisfied: nbformat>=4.2.0 in /usr/local/python3/lib/python3.7/site-packages (from ipywidgets>=7.0.0->mitosheet) (4.4.0)\n",
      "Requirement already satisfied: widgetsnbextension~=3.5.0 in /usr/local/python3/lib/python3.7/site-packages (from ipywidgets>=7.0.0->mitosheet) (3.5.1)\n",
      "Requirement already satisfied: ipython>=4.0.0 in /usr/local/python3/lib/python3.7/site-packages (from ipywidgets>=7.0.0->mitosheet) (7.7.0)\n",
      "Requirement already satisfied: jupyter-client in /usr/local/python3/lib/python3.7/site-packages (from ipykernel>=4.5.1->ipywidgets>=7.0.0->mitosheet) (5.3.1)\n",
      "Requirement already satisfied: tornado>=4.2 in /usr/local/python3/lib/python3.7/site-packages (from ipykernel>=4.5.1->ipywidgets>=7.0.0->mitosheet) (6.0.3)\n",
      "Requirement already satisfied: setuptools>=18.5 in /usr/local/python3/lib/python3.7/site-packages (from ipython>=4.0.0->ipywidgets>=7.0.0->mitosheet) (40.8.0)\n",
      "Requirement already satisfied: pygments in /home/gtml/.local/lib/python3.7/site-packages (from ipython>=4.0.0->ipywidgets>=7.0.0->mitosheet) (2.6.1)\n",
      "Requirement already satisfied: backcall in /usr/local/python3/lib/python3.7/site-packages (from ipython>=4.0.0->ipywidgets>=7.0.0->mitosheet) (0.1.0)\n",
      "Requirement already satisfied: pexpect in /usr/local/python3/lib/python3.7/site-packages (from ipython>=4.0.0->ipywidgets>=7.0.0->mitosheet) (4.7.0)\n",
      "Requirement already satisfied: decorator in /usr/local/python3/lib/python3.7/site-packages (from ipython>=4.0.0->ipywidgets>=7.0.0->mitosheet) (4.4.0)\n",
      "Requirement already satisfied: prompt-toolkit<2.1.0,>=2.0.0 in /usr/local/python3/lib/python3.7/site-packages (from ipython>=4.0.0->ipywidgets>=7.0.0->mitosheet) (2.0.9)\n",
      "Requirement already satisfied: jedi>=0.10 in /usr/local/python3/lib/python3.7/site-packages (from ipython>=4.0.0->ipywidgets>=7.0.0->mitosheet) (0.14.1)\n",
      "Requirement already satisfied: pickleshare in /usr/local/python3/lib/python3.7/site-packages (from ipython>=4.0.0->ipywidgets>=7.0.0->mitosheet) (0.7.5)\n",
      "Requirement already satisfied: parso>=0.5.0 in /usr/local/python3/lib/python3.7/site-packages (from jedi>=0.10->ipython>=4.0.0->ipywidgets>=7.0.0->mitosheet) (0.5.1)\n",
      "Requirement already satisfied: jinja2>=2.10 in /usr/local/python3/lib/python3.7/site-packages (from jupyterlab<3.0,>=2.0->mitosheet) (2.10.1)\n",
      "Requirement already satisfied: notebook>=4.3.1 in /usr/local/python3/lib/python3.7/site-packages (from jupyterlab<3.0,>=2.0->mitosheet) (6.0.0)\n",
      "Collecting jupyterlab-server<2.0,>=1.1.5\n",
      "  Downloading jupyterlab_server-1.2.0-py3-none-any.whl (29 kB)\n",
      "Requirement already satisfied: MarkupSafe>=0.23 in /usr/local/python3/lib/python3.7/site-packages (from jinja2>=2.10->jupyterlab<3.0,>=2.0->mitosheet) (1.1.1)\n",
      "Requirement already satisfied: jsonschema>=3.0.1 in /usr/local/python3/lib/python3.7/site-packages (from jupyterlab-server<2.0,>=1.1.5->jupyterlab<3.0,>=2.0->mitosheet) (3.0.2)\n",
      "Requirement already satisfied: requests in /home/gtml/.local/lib/python3.7/site-packages (from jupyterlab-server<2.0,>=1.1.5->jupyterlab<3.0,>=2.0->mitosheet) (2.24.0)\n",
      "Collecting json5\n",
      "  Downloading json5-0.9.5-py2.py3-none-any.whl (17 kB)\n",
      "Requirement already satisfied: attrs>=17.4.0 in /usr/local/python3/lib/python3.7/site-packages (from jsonschema>=3.0.1->jupyterlab-server<2.0,>=1.1.5->jupyterlab<3.0,>=2.0->mitosheet) (19.1.0)\n",
      "Requirement already satisfied: pyrsistent>=0.14.0 in /usr/local/python3/lib/python3.7/site-packages (from jsonschema>=3.0.1->jupyterlab-server<2.0,>=1.1.5->jupyterlab<3.0,>=2.0->mitosheet) (0.15.4)\n",
      "Requirement already satisfied: six>=1.11.0 in /usr/local/python3/lib/python3.7/site-packages (from jsonschema>=3.0.1->jupyterlab-server<2.0,>=1.1.5->jupyterlab<3.0,>=2.0->mitosheet) (1.12.0)\n",
      "Requirement already satisfied: kiwisolver>=1.0.1 in /home/gtml/.local/lib/python3.7/site-packages (from matplotlib>=3.3->mitosheet) (1.2.0)\n",
      "Requirement already satisfied: python-dateutil>=2.1 in /usr/local/python3/lib/python3.7/site-packages (from matplotlib>=3.3->mitosheet) (2.8.0)\n",
      "Requirement already satisfied: pillow>=6.2.0 in /home/gtml/.local/lib/python3.7/site-packages (from matplotlib>=3.3->mitosheet) (7.2.0)\n",
      "Requirement already satisfied: cycler>=0.10 in /home/gtml/.local/lib/python3.7/site-packages (from matplotlib>=3.3->mitosheet) (0.10.0)\n",
      "Requirement already satisfied: pyparsing!=2.0.4,!=2.1.2,!=2.1.6,>=2.0.3 in /home/gtml/.local/lib/python3.7/site-packages (from matplotlib>=3.3->mitosheet) (2.4.7)\n",
      "Requirement already satisfied: numpy>=1.15 in /home/gtml/.local/lib/python3.7/site-packages (from matplotlib>=3.3->mitosheet) (1.19.0)\n",
      "Requirement already satisfied: ipython-genutils in /usr/local/python3/lib/python3.7/site-packages (from nbformat>=4.2.0->ipywidgets>=7.0.0->mitosheet) (0.2.0)\n",
      "Requirement already satisfied: jupyter-core in /usr/local/python3/lib/python3.7/site-packages (from nbformat>=4.2.0->ipywidgets>=7.0.0->mitosheet) (4.5.0)\n",
      "Requirement already satisfied: Send2Trash in /usr/local/python3/lib/python3.7/site-packages (from notebook>=4.3.1->jupyterlab<3.0,>=2.0->mitosheet) (1.5.0)\n",
      "Requirement already satisfied: pyzmq>=17 in /usr/local/python3/lib/python3.7/site-packages (from notebook>=4.3.1->jupyterlab<3.0,>=2.0->mitosheet) (18.1.0)\n",
      "Requirement already satisfied: nbconvert in /usr/local/python3/lib/python3.7/site-packages (from notebook>=4.3.1->jupyterlab<3.0,>=2.0->mitosheet) (5.6.0)\n",
      "Requirement already satisfied: terminado>=0.8.1 in /usr/local/python3/lib/python3.7/site-packages (from notebook>=4.3.1->jupyterlab<3.0,>=2.0->mitosheet) (0.8.2)\n",
      "Requirement already satisfied: prometheus-client in /usr/local/python3/lib/python3.7/site-packages (from notebook>=4.3.1->jupyterlab<3.0,>=2.0->mitosheet) (0.7.1)\n",
      "Requirement already satisfied: pytz>=2017.3 in /usr/local/python3/lib/python3.7/site-packages (from pandas>=1.1.0->mitosheet) (2019.2)\n",
      "Requirement already satisfied: wcwidth in /usr/local/python3/lib/python3.7/site-packages (from prompt-toolkit<2.1.0,>=2.0.0->ipython>=4.0.0->ipywidgets>=7.0.0->mitosheet) (0.1.7)\n",
      "Requirement already satisfied: ptyprocess in /usr/local/python3/lib/python3.7/site-packages (from terminado>=0.8.1->notebook>=4.3.1->jupyterlab<3.0,>=2.0->mitosheet) (0.6.0)\n",
      "Requirement already satisfied: certifi>=2017.4.17 in /home/gtml/.local/lib/python3.7/site-packages (from requests->jupyterlab-server<2.0,>=1.1.5->jupyterlab<3.0,>=2.0->mitosheet) (2020.6.20)\n",
      "Requirement already satisfied: chardet<4,>=3.0.2 in /home/gtml/.local/lib/python3.7/site-packages (from requests->jupyterlab-server<2.0,>=1.1.5->jupyterlab<3.0,>=2.0->mitosheet) (3.0.4)\n",
      "Requirement already satisfied: idna<3,>=2.5 in /home/gtml/.local/lib/python3.7/site-packages (from requests->jupyterlab-server<2.0,>=1.1.5->jupyterlab<3.0,>=2.0->mitosheet) (2.10)\n",
      "Requirement already satisfied: urllib3!=1.25.0,!=1.25.1,<1.26,>=1.21.1 in /home/gtml/.local/lib/python3.7/site-packages (from requests->jupyterlab-server<2.0,>=1.1.5->jupyterlab<3.0,>=2.0->mitosheet) (1.25.9)\n",
      "Requirement already satisfied: mistune<2,>=0.8.1 in /usr/local/python3/lib/python3.7/site-packages (from nbconvert->notebook>=4.3.1->jupyterlab<3.0,>=2.0->mitosheet) (0.8.4)\n",
      "Requirement already satisfied: defusedxml in /usr/local/python3/lib/python3.7/site-packages (from nbconvert->notebook>=4.3.1->jupyterlab<3.0,>=2.0->mitosheet) (0.6.0)\n",
      "Requirement already satisfied: pandocfilters>=1.4.1 in /usr/local/python3/lib/python3.7/site-packages (from nbconvert->notebook>=4.3.1->jupyterlab<3.0,>=2.0->mitosheet) (1.4.2)\n",
      "Requirement already satisfied: testpath in /usr/local/python3/lib/python3.7/site-packages (from nbconvert->notebook>=4.3.1->jupyterlab<3.0,>=2.0->mitosheet) (0.4.2)\n",
      "Requirement already satisfied: bleach in /usr/local/python3/lib/python3.7/site-packages (from nbconvert->notebook>=4.3.1->jupyterlab<3.0,>=2.0->mitosheet) (3.1.0)\n",
      "Requirement already satisfied: entrypoints>=0.2.2 in /usr/local/python3/lib/python3.7/site-packages (from nbconvert->notebook>=4.3.1->jupyterlab<3.0,>=2.0->mitosheet) (0.3)\n",
      "Requirement already satisfied: webencodings in /usr/local/python3/lib/python3.7/site-packages (from bleach->nbconvert->notebook>=4.3.1->jupyterlab<3.0,>=2.0->mitosheet) (0.5.1)\n"
     ]
    },
    {
     "name": "stdout",
     "output_type": "stream",
     "text": [
      "Installing collected packages: json5, jupyterlab-server, pandas, matplotlib, jupyterlab, analytics-python, mitosheet\n",
      "  Attempting uninstall: pandas\n",
      "    Found existing installation: pandas 1.0.5\n",
      "    Uninstalling pandas-1.0.5:\n",
      "      Successfully uninstalled pandas-1.0.5\n",
      "  Attempting uninstall: matplotlib\n",
      "    Found existing installation: matplotlib 3.2.2\n",
      "    Uninstalling matplotlib-3.2.2:\n",
      "      Successfully uninstalled matplotlib-3.2.2\n",
      "Successfully installed analytics-python-1.2.9 json5-0.9.5 jupyterlab-2.2.9 jupyterlab-server-1.2.0 matplotlib-3.3.4 mitosheet-0.1.149 pandas-1.2.3\n",
      "Note: you may need to restart the kernel to use updated packages.\n"
     ]
    }
   ],
   "source": [
    "pip install mitosheet"
   ]
  },
  {
   "cell_type": "code",
   "execution_count": 4,
   "metadata": {},
   "outputs": [
    {
     "data": {
      "application/vnd.jupyter.widget-view+json": {
       "model_id": "b37a94a2dcfe4eb09b9466ab9a91f843",
       "version_major": 2,
       "version_minor": 0
      },
      "text/plain": [
       "MitoWidget(analysis_name='UUID-a0615008-df62-44b6-ac15-04b9923f31e0', code_json='{\"imports\": \"from mitosheet i…"
      ]
     },
     "metadata": {},
     "output_type": "display_data"
    }
   ],
   "source": [
    "import mitosheet\n",
    "mitosheet.sheet()"
   ]
  },
  {
   "cell_type": "code",
   "execution_count": 5,
   "metadata": {},
   "outputs": [
    {
     "data": {
      "application/vnd.jupyter.widget-view+json": {
       "model_id": "f3300f8107af420eb4022ed0cb173544",
       "version_major": 2,
       "version_minor": 0
      },
      "text/plain": [
       "MitoWidget(analysis_name='UUID-0c5061b5-4088-4e13-a1e2-762a214321b1', code_json='{\"imports\": \"from mitosheet i…"
      ]
     },
     "metadata": {},
     "output_type": "display_data"
    }
   ],
   "source": [
    "mitosheet.sheet()"
   ]
  },
  {
   "cell_type": "code",
   "execution_count": 12,
   "metadata": {},
   "outputs": [
    {
     "ename": "SyntaxError",
     "evalue": "invalid syntax (<ipython-input-12-6b4baff44a27>, line 1)",
     "output_type": "error",
     "traceback": [
      "\u001b[0;36m  File \u001b[0;32m\"<ipython-input-12-6b4baff44a27>\"\u001b[0;36m, line \u001b[0;32m1\u001b[0m\n\u001b[0;31m    jupyter labextension install @jupyter-widgets/jupyterlab-manager@2\u001b[0m\n\u001b[0m                       ^\u001b[0m\n\u001b[0;31mSyntaxError\u001b[0m\u001b[0;31m:\u001b[0m invalid syntax\n"
     ]
    }
   ],
   "source": [
    "jupyter labextension install @jupyter-widgets/jupyterlab-manager@2"
   ]
  },
  {
   "cell_type": "code",
   "execution_count": null,
   "metadata": {},
   "outputs": [],
   "source": []
  }
 ],
 "metadata": {
  "kernelspec": {
   "display_name": "Python 3",
   "language": "python",
   "name": "python3"
  },
  "language_info": {
   "codemirror_mode": {
    "name": "ipython",
    "version": 3
   },
   "file_extension": ".py",
   "mimetype": "text/x-python",
   "name": "python",
   "nbconvert_exporter": "python",
   "pygments_lexer": "ipython3",
   "version": "3.7.4"
  }
 },
 "nbformat": 4,
 "nbformat_minor": 2
}
