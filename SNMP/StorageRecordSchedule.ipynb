{
 "cells": [
  {
   "cell_type": "code",
   "execution_count": null,
   "metadata": {},
   "outputs": [],
   "source": [
    "import datetime\n",
    "import json\n",
    "import pymysql\n",
    "import schedule\n",
    "\n",
    "def callStoreProcedure():\n",
    "    sql = \"CALL UP_StorageRecord(%s,%s)\"\n",
    "    return sql\n",
    "\n",
    "\n",
    "def jobProcess():\n",
    "    # 建立MySQL連線\n",
    "    dbBase = pymysql.connect(host='140.134.51.26', port=3306, user='root', passwd='Gtml@3777', db='ResourceApp', charset='utf8')\n",
    "    cursor = dbBase.cursor()\n",
    "    d1 = datetime.timedelta(days=1)\n",
    "    startdate = (datetime.datetime.now() - d1).strftime('%Y-%m-%d')\n",
    "    enddate = datetime.datetime.now().strftime('%Y-%m-%d')\n",
    "    value = (startdate, enddate)\n",
    "    cursor.execute(callStoreProcedure(), value)\n",
    "    dbBase.commit()\n",
    "\n",
    "    #關閉連線\n",
    "    cursor.close()\n",
    "    dbBase.close()\n",
    "    print(\"Done\")\n",
    "\n",
    "\n",
    "\n",
    "\n",
    "schedule.every().day.at(\"00:10\").do(jobProcess)\n",
    "\n",
    "\n",
    "while True: \n",
    "    schedule.run_pending()"
   ]
  },
  {
   "cell_type": "code",
   "execution_count": null,
   "metadata": {},
   "outputs": [],
   "source": []
  }
 ],
 "metadata": {
  "kernelspec": {
   "display_name": "Python 3",
   "language": "python",
   "name": "python3"
  },
  "language_info": {
   "codemirror_mode": {
    "name": "ipython",
    "version": 3
   },
   "file_extension": ".py",
   "mimetype": "text/x-python",
   "name": "python",
   "nbconvert_exporter": "python",
   "pygments_lexer": "ipython3",
   "version": "3.7.4"
  }
 },
 "nbformat": 4,
 "nbformat_minor": 2
}
